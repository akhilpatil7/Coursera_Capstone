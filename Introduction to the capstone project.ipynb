{
 "cells": [
  {
   "cell_type": "markdown",
   "metadata": {
    "toc": true
   },
   "source": [
    "<h1>Table of Contents<span class=\"tocSkip\"></span></h1>\n",
    "<div class=\"toc\"><ul class=\"toc-item\"></ul></div>"
   ]
  },
  {
   "cell_type": "markdown",
   "metadata": {},
   "source": [
    "<b> Introduction: Battle between Neighborhoods of London and Toronto! </b><br>\n",
    "Toronto and London both are the oldest cities and have past connections with French origins. So, I decided to analyze the neighborhoods of London and Toronto and determine what are some similar popular venue categories in both the cities that are financial capitals of their respective countries. We will analyze the neighborhood data of each city and trending venues within 500 meters of radius from city center. We will determine weather people living in these two financial capitals have similar interests or have dissimilar interests.<br>\n",
    "We can also make a map of these venue categories which can help visitors which are some popular venues to go to in the neighborhood. \n",
    "\n",
    "<b>Data:</b><br>\n",
    "For this project we are going to grab Neighborhoods data from Wikipedia which will be focused of Neighborhoods, Postal codes and Boroughs of both the cities. Links of the pages are provided below this section. Once we have the data, we will get the venues and their categories from Foursquare api making free calls and use this data to find out the most popular venue for each Neighborhood.<br>\n",
    "Our analysis is based on postal codes, so to get coordinates of each postal code will be using the “arcgis” of geocoder to get latitudes and longitudes of each postal codes which will help us to plot the neighborhoods on map of both the cities. <br>\n",
    "Finally, we will be performing k- means clustering to determine the closest neighborhoods and each cluster will have its most popular venue category and some other venues that are popular in the borough of that cluster. We will show this information using the popup feature in folium library.  <br>\n",
    " For more clarification of the clusters with the neighborhoods I will add the geojson to map which will show the boundaries of each post code in both the cities.\n",
    "\n",
    "<b> <i>Links for the data :</i> </b><br>\n",
    "Neighborhoods of Toronto: https://en.wikipedia.org/wiki/List_of_postal_codes_of_Canada:_M<br>\n",
    "Neighborhoods of London: https://en.wikipedia.org/wiki/List_of_areas_of_London<br>\n",
    "Geojson of Toronto: https://github.com/jasonicarter/toronto-geojson<br>\n",
    "Geojson of London:  https://github.com/sjwhitworth/london_geojson<br>\n",
    "\n",
    "\n",
    "\n"
   ]
  }
 ],
 "metadata": {
  "kernelspec": {
   "display_name": "Python 3",
   "language": "python",
   "name": "python3"
  },
  "language_info": {
   "codemirror_mode": {
    "name": "ipython",
    "version": 3
   },
   "file_extension": ".py",
   "mimetype": "text/x-python",
   "name": "python",
   "nbconvert_exporter": "python",
   "pygments_lexer": "ipython3",
   "version": "3.7.0"
  },
  "toc": {
   "base_numbering": 1,
   "nav_menu": {},
   "number_sections": true,
   "sideBar": true,
   "skip_h1_title": false,
   "title_cell": "Table of Contents",
   "title_sidebar": "Contents",
   "toc_cell": true,
   "toc_position": {},
   "toc_section_display": true,
   "toc_window_display": true
  }
 },
 "nbformat": 4,
 "nbformat_minor": 2
}
