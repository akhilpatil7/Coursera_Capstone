{
 "cells": [
  {
   "cell_type": "markdown",
   "metadata": {
    "toc": true
   },
   "source": [
    "<h1>Table of Contents<span class=\"tocSkip\"></span></h1>\n",
    "<div class=\"toc\"><ul class=\"toc-item\"><li><span><a href=\"#-PART--I\" data-toc-modified-id=\"-PART--I-1\"><span class=\"toc-item-num\">1&nbsp;&nbsp;</span> PART -I</a></span><ul class=\"toc-item\"><li><span><a href=\"#PART--2\" data-toc-modified-id=\"PART--2-1.1\"><span class=\"toc-item-num\">1.1&nbsp;&nbsp;</span>PART -2</a></span></li><li><span><a href=\"#Part---3\" data-toc-modified-id=\"Part---3-1.2\"><span class=\"toc-item-num\">1.2&nbsp;&nbsp;</span>Part - 3</a></span><ul class=\"toc-item\"><li><ul class=\"toc-item\"><li><span><a href=\"#Define-Foursquare-Credentials-and-Version\" data-toc-modified-id=\"Define-Foursquare-Credentials-and-Version-1.2.0.1\"><span class=\"toc-item-num\">1.2.0.1&nbsp;&nbsp;</span>Define Foursquare Credentials and Version</a></span></li></ul></li></ul></li><li><span><a href=\"#2.-Explore-Neighborhoods-in-Toronto\" data-toc-modified-id=\"2.-Explore-Neighborhoods-in-Toronto-1.3\"><span class=\"toc-item-num\">1.3&nbsp;&nbsp;</span>2. Explore Neighborhoods in Toronto</a></span><ul class=\"toc-item\"><li><ul class=\"toc-item\"><li><span><a href=\"#Let's-check-the-size-of-the-resulting-dataframe\" data-toc-modified-id=\"Let's-check-the-size-of-the-resulting-dataframe-1.3.0.1\"><span class=\"toc-item-num\">1.3.0.1&nbsp;&nbsp;</span>Let's check the size of the resulting dataframe</a></span></li><li><span><a href=\"#Let's-find-out-how-many-unique-categories-can-be-curated-from-all-the-returned-venues\" data-toc-modified-id=\"Let's-find-out-how-many-unique-categories-can-be-curated-from-all-the-returned-venues-1.3.0.2\"><span class=\"toc-item-num\">1.3.0.2&nbsp;&nbsp;</span>Let's find out how many unique categories can be curated from all the returned venues</a></span></li></ul></li></ul></li><li><span><a href=\"#3.-Analyze-Each-Neighborhood\" data-toc-modified-id=\"3.-Analyze-Each-Neighborhood-1.4\"><span class=\"toc-item-num\">1.4&nbsp;&nbsp;</span>3. Analyze Each Neighborhood</a></span><ul class=\"toc-item\"><li><ul class=\"toc-item\"><li><span><a href=\"#Next,-let's-group-rows-by-neighborhood-and-by-taking-the-mean-of-the-frequency-of-occurrence-of-each-category\" data-toc-modified-id=\"Next,-let's-group-rows-by-neighborhood-and-by-taking-the-mean-of-the-frequency-of-occurrence-of-each-category-1.4.0.1\"><span class=\"toc-item-num\">1.4.0.1&nbsp;&nbsp;</span>Next, let's group rows by neighborhood and by taking the mean of the frequency of occurrence of each category</a></span></li><li><span><a href=\"#Let's-confirm-the-new-size\" data-toc-modified-id=\"Let's-confirm-the-new-size-1.4.0.2\"><span class=\"toc-item-num\">1.4.0.2&nbsp;&nbsp;</span>Let's confirm the new size</a></span></li><li><span><a href=\"#Let's-print-each-neighborhood-along-with-the-top-5-most-common-venues\" data-toc-modified-id=\"Let's-print-each-neighborhood-along-with-the-top-5-most-common-venues-1.4.0.3\"><span class=\"toc-item-num\">1.4.0.3&nbsp;&nbsp;</span>Let's print each neighborhood along with the top 5 most common venues</a></span></li><li><span><a href=\"#Let's-put-that-into-a-pandas-dataframe\" data-toc-modified-id=\"Let's-put-that-into-a-pandas-dataframe-1.4.0.4\"><span class=\"toc-item-num\">1.4.0.4&nbsp;&nbsp;</span>Let's put that into a <em>pandas</em> dataframe</a></span></li></ul></li></ul></li><li><span><a href=\"#4.-Cluster-Neighborhoods\" data-toc-modified-id=\"4.-Cluster-Neighborhoods-1.5\"><span class=\"toc-item-num\">1.5&nbsp;&nbsp;</span>4. Cluster Neighborhoods</a></span></li><li><span><a href=\"#5.-Examine-Clusters\" data-toc-modified-id=\"5.-Examine-Clusters-1.6\"><span class=\"toc-item-num\">1.6&nbsp;&nbsp;</span>5. Examine Clusters</a></span><ul class=\"toc-item\"><li><ul class=\"toc-item\"><li><span><a href=\"#Cluster-1\" data-toc-modified-id=\"Cluster-1-1.6.0.1\"><span class=\"toc-item-num\">1.6.0.1&nbsp;&nbsp;</span>Cluster 1</a></span></li><li><span><a href=\"#Cluster-2\" data-toc-modified-id=\"Cluster-2-1.6.0.2\"><span class=\"toc-item-num\">1.6.0.2&nbsp;&nbsp;</span>Cluster 2</a></span></li><li><span><a href=\"#Cluster-3\" data-toc-modified-id=\"Cluster-3-1.6.0.3\"><span class=\"toc-item-num\">1.6.0.3&nbsp;&nbsp;</span>Cluster 3</a></span></li><li><span><a href=\"#Cluster-4\" data-toc-modified-id=\"Cluster-4-1.6.0.4\"><span class=\"toc-item-num\">1.6.0.4&nbsp;&nbsp;</span>Cluster 4</a></span></li><li><span><a href=\"#Cluster-5\" data-toc-modified-id=\"Cluster-5-1.6.0.5\"><span class=\"toc-item-num\">1.6.0.5&nbsp;&nbsp;</span>Cluster 5</a></span></li><li><span><a href=\"#from-above-map-we-can-see-that-our-neighborhoods-analysis-shows-the-results-in-popup-with-trending-venues-from-foursquare-api.-which-lets-us-know-which-is-first-and-foremost-place-to-go-will-be-the-one-whcich-is-famous-in-neighborhood-and-other-things-trending-in-that-Borough-are-mentioned-below-the-line.\" data-toc-modified-id=\"from-above-map-we-can-see-that-our-neighborhoods-analysis-shows-the-results-in-popup-with-trending-venues-from-foursquare-api.-which-lets-us-know-which-is-first-and-foremost-place-to-go-will-be-the-one-whcich-is-famous-in-neighborhood-and-other-things-trending-in-that-Borough-are-mentioned-below-the-line.-1.6.0.6\"><span class=\"toc-item-num\">1.6.0.6&nbsp;&nbsp;</span>from above map we can see that our neighborhoods analysis shows the results in popup with trending venues from foursquare api. which lets us know which is first and foremost place to go will be the one whcich is famous in neighborhood and other things trending in that Borough are mentioned below the line.</a></span></li><li><span><a href=\"#we-have-sucesfully-analysed-neighborhoods-in-toronto-which-let-us-know-which-are-the-places-to-go-for-coffe-in-downtwon-or-where-to-go-for-some-relaxation(-like-cluster-3-having-parks-and-playgrounds-).\" data-toc-modified-id=\"we-have-sucesfully-analysed-neighborhoods-in-toronto-which-let-us-know-which-are-the-places-to-go-for-coffe-in-downtwon-or-where-to-go-for-some-relaxation(-like-cluster-3-having-parks-and-playgrounds-).-1.6.0.7\"><span class=\"toc-item-num\">1.6.0.7&nbsp;&nbsp;</span>we have sucesfully analysed neighborhoods in toronto which let us know which are the places to go for coffe in downtwon or where to go for some relaxation( like cluster 3 having parks and playgrounds ).</a></span></li><li><span><a href=\"#Additional-screenshots-of-Map-outputs-are-attached-in-the-repository\" data-toc-modified-id=\"Additional-screenshots-of-Map-outputs-are-attached-in-the-repository-1.6.0.8\"><span class=\"toc-item-num\">1.6.0.8&nbsp;&nbsp;</span>Additional screenshots of Map outputs are attached in the repository</a></span></li></ul></li></ul></li></ul></li></ul></div>"
   ]
  },
  {
   "cell_type": "markdown",
   "metadata": {},
   "source": [
    "This Notebook will be used for capstone project."
   ]
  },
  {
   "cell_type": "markdown",
   "metadata": {},
   "source": [
    "<H1> PART -I"
   ]
  },
  {
   "cell_type": "markdown",
   "metadata": {},
   "source": [
    "Scrapping the toronto neighbourhood data from wiki using beautiful soup"
   ]
  },
  {
   "cell_type": "code",
   "execution_count": null,
   "metadata": {},
   "outputs": [],
   "source": [
    "import requests\n",
    "from bs4 import BeautifulSoup\n",
    "\n",
    "url = \"https://en.wikipedia.org/wiki/List_of_postal_codes_of_Canada:_M\"\n",
    "page = requests.get(url)\n",
    "soup = BeautifulSoup(page.content, 'html.parser')\n",
    "tb = soup.find('table', class_='wikitable')\n",
    "table_tmp = tb.tbody.find_all(\"tr\")\n"
   ]
  },
  {
   "cell_type": "code",
   "execution_count": null,
   "metadata": {},
   "outputs": [],
   "source": [
    "headings = []\n",
    "for th in table_tmp[0].find_all(\"th\"):\n",
    "    # remove any newlines and extra spaces from left and right\n",
    "    headings.append(th.text.replace('\\n', ' ').strip())\n",
    "\n",
    "print(headings)\n"
   ]
  },
  {
   "cell_type": "markdown",
   "metadata": {},
   "source": [
    "We got the headings now we can opaerse data in dictionary and then convert it to data frame"
   ]
  },
  {
   "cell_type": "code",
   "execution_count": null,
   "metadata": {},
   "outputs": [],
   "source": [
    "table_data = []\n",
    "for tr in tb.tbody.find_all(\"tr\"): # find all tr's from table's tbody\n",
    "        t_row = {}\n",
    "        \n",
    "        for td, th in zip(tr.find_all(\"td\"), headings): \n",
    "            t_row[th] = td.text.replace('\\n', '').strip()\n",
    "        table_data.append(t_row)\n"
   ]
  },
  {
   "cell_type": "code",
   "execution_count": null,
   "metadata": {},
   "outputs": [],
   "source": [
    "postcode = []\n",
    "borough =[] \n",
    "neighbourhood = []\n",
    "\n",
    "for item in table_data[1:]:\n",
    "    postcode.append(item['Postcode'])\n",
    "    borough.append(item['Borough'])\n",
    "    neighbourhood.append(item['Neighbourhood'])\n",
    "    "
   ]
  },
  {
   "cell_type": "markdown",
   "metadata": {},
   "source": [
    "converted to 3 seprate list checked each list has same length."
   ]
  },
  {
   "cell_type": "code",
   "execution_count": null,
   "metadata": {
    "scrolled": true
   },
   "outputs": [],
   "source": [
    "print(neighbourhood[:5] , postcode[:5] , borough[:5])"
   ]
  },
  {
   "cell_type": "code",
   "execution_count": null,
   "metadata": {},
   "outputs": [],
   "source": [
    "print(len(neighbourhood),len(postcode),len(borough))"
   ]
  },
  {
   "cell_type": "code",
   "execution_count": null,
   "metadata": {},
   "outputs": [],
   "source": [
    "import pandas as pd"
   ]
  },
  {
   "cell_type": "code",
   "execution_count": null,
   "metadata": {},
   "outputs": [],
   "source": [
    "df = pd.DataFrame({\"PostalCode\" : postcode,\n",
    "              \"Borough\" :borough,\n",
    "              \"Neighborhood\" :neighbourhood})"
   ]
  },
  {
   "cell_type": "code",
   "execution_count": null,
   "metadata": {},
   "outputs": [],
   "source": [
    "df.head()"
   ]
  },
  {
   "cell_type": "markdown",
   "metadata": {},
   "source": [
    "ignoring the not assigned boroughs"
   ]
  },
  {
   "cell_type": "code",
   "execution_count": null,
   "metadata": {},
   "outputs": [],
   "source": [
    "df = df[df.Borough != \"Not assigned\"]"
   ]
  },
  {
   "cell_type": "code",
   "execution_count": null,
   "metadata": {},
   "outputs": [],
   "source": [
    "df.shape"
   ]
  },
  {
   "cell_type": "code",
   "execution_count": null,
   "metadata": {
    "scrolled": true
   },
   "outputs": [],
   "source": [
    "df.head()"
   ]
  },
  {
   "cell_type": "markdown",
   "metadata": {},
   "source": [
    "Finding the rows that have neighboehood not assigned"
   ]
  },
  {
   "cell_type": "code",
   "execution_count": null,
   "metadata": {
    "scrolled": true
   },
   "outputs": [],
   "source": [
    "df[df.Neighborhood ==  \"Not assigned\"]\n"
   ]
  },
  {
   "cell_type": "markdown",
   "metadata": {},
   "source": [
    "Found which rows have not assigned neighborhood"
   ]
  },
  {
   "cell_type": "markdown",
   "metadata": {},
   "source": [
    "Converting those non assigned neighborhood values to default vales of borough"
   ]
  },
  {
   "cell_type": "code",
   "execution_count": null,
   "metadata": {},
   "outputs": [],
   "source": [
    "df.loc[df.Neighborhood ==  \"Not assigned\",\"Neighborhood\"] = df[\"Borough\"]"
   ]
  },
  {
   "cell_type": "code",
   "execution_count": null,
   "metadata": {
    "scrolled": true
   },
   "outputs": [],
   "source": [
    "df.head(10)"
   ]
  },
  {
   "cell_type": "markdown",
   "metadata": {},
   "source": [
    "Grouped unique postal codes with neighbourhood."
   ]
  },
  {
   "cell_type": "code",
   "execution_count": null,
   "metadata": {},
   "outputs": [],
   "source": [
    "df = df.groupby(['PostalCode','Borough'])['Neighborhood'].apply(lambda x: ','.join(x.unique())).reset_index()"
   ]
  },
  {
   "cell_type": "code",
   "execution_count": null,
   "metadata": {},
   "outputs": [],
   "source": [
    "df.head(20)"
   ]
  },
  {
   "cell_type": "code",
   "execution_count": null,
   "metadata": {},
   "outputs": [],
   "source": [
    "df.shape"
   ]
  },
  {
   "cell_type": "markdown",
   "metadata": {},
   "source": [
    "We have got 103 rows and 3 columns "
   ]
  },
  {
   "cell_type": "markdown",
   "metadata": {},
   "source": [
    "## PART -2 "
   ]
  },
  {
   "cell_type": "markdown",
   "metadata": {},
   "source": [
    "Get the latitude and longitude for each neighborhood"
   ]
  },
  {
   "cell_type": "code",
   "execution_count": null,
   "metadata": {},
   "outputs": [],
   "source": [
    "#!pip install geocoder"
   ]
  },
  {
   "cell_type": "code",
   "execution_count": null,
   "metadata": {},
   "outputs": [],
   "source": [
    "#import geocoder # import geocoder\n",
    "\n",
    "# initialize your variable to None\n",
    "#lat_lng_coords = None\n",
    "\n",
    "# loop until you get the coordinates\n",
    "#while(lat_lng_coords is None):\n",
    "#  g = geocoder.google('{}, Toronto, Ontario'.format('M1B'))\n",
    "#  lat_lng_coords = g.latlng\n",
    "\n",
    "#latitude = lat_lng_coords[0]\n",
    "#longitude = lat_lng_coords[1]"
   ]
  },
  {
   "cell_type": "code",
   "execution_count": null,
   "metadata": {},
   "outputs": [],
   "source": [
    "#g = geocoder.google('Mountain View, CA')\n",
    "#g.latlng\n"
   ]
  },
  {
   "cell_type": "markdown",
   "metadata": {},
   "source": [
    "tried executing geocoder but it keeps running forever and dosent display any output. So using the csv file provided "
   ]
  },
  {
   "cell_type": "code",
   "execution_count": null,
   "metadata": {},
   "outputs": [],
   "source": [
    "df1 = pd.read_csv(\"D:/Downloads/Geospatial_Coordinates.csv\")"
   ]
  },
  {
   "cell_type": "code",
   "execution_count": null,
   "metadata": {},
   "outputs": [],
   "source": [
    "df1.head()"
   ]
  },
  {
   "cell_type": "markdown",
   "metadata": {},
   "source": [
    "we have to merge this both datasets"
   ]
  },
  {
   "cell_type": "code",
   "execution_count": null,
   "metadata": {},
   "outputs": [],
   "source": [
    "df_merged = pd.merge(left= df , right= df1, left_on = \"PostalCode\",right_on = \"Postal Code\")"
   ]
  },
  {
   "cell_type": "code",
   "execution_count": null,
   "metadata": {
    "scrolled": true
   },
   "outputs": [],
   "source": [
    "df_merged.head()"
   ]
  },
  {
   "cell_type": "markdown",
   "metadata": {},
   "source": [
    "Dropping the extra Postal Code column"
   ]
  },
  {
   "cell_type": "code",
   "execution_count": null,
   "metadata": {},
   "outputs": [],
   "source": [
    "df_merged = df_merged.drop(\"Postal Code\",axis =1)"
   ]
  },
  {
   "cell_type": "code",
   "execution_count": null,
   "metadata": {
    "scrolled": true
   },
   "outputs": [],
   "source": [
    "df_merged.head()"
   ]
  },
  {
   "cell_type": "markdown",
   "metadata": {},
   "source": [
    "## Part - 3 "
   ]
  },
  {
   "cell_type": "markdown",
   "metadata": {},
   "source": [
    "Analysisng toronto neighborhood using foursquare api "
   ]
  },
  {
   "cell_type": "code",
   "execution_count": null,
   "metadata": {},
   "outputs": [],
   "source": [
    "#!pip install geopy"
   ]
  },
  {
   "cell_type": "code",
   "execution_count": null,
   "metadata": {},
   "outputs": [],
   "source": [
    "import numpy as np # library to handle data in a vectorized manner\n",
    "\n",
    "pd.set_option('display.max_columns', None)\n",
    "pd.set_option('display.max_rows', None)\n",
    "\n",
    "import json # library to handle JSON files\n",
    "\n",
    "from geopy.geocoders import Nominatim # convert an address into latitude and longitude values\n",
    "\n",
    "import requests # library to handle requests\n",
    "from pandas.io.json import json_normalize # tranform JSON file into a pandas dataframe\n",
    "\n",
    "# Matplotlib and associated plotting modules\n",
    "import matplotlib.cm as cm\n",
    "import matplotlib.colors as colors\n",
    "\n",
    "# import k-means from clustering stage\n",
    "from sklearn.cluster import KMeans\n",
    "\n",
    "import folium # map rendering library\n",
    "\n",
    "print('Libraries imported.')"
   ]
  },
  {
   "cell_type": "code",
   "execution_count": null,
   "metadata": {},
   "outputs": [],
   "source": [
    "address = 'Toronto, ON'\n",
    "\n",
    "geolocator = Nominatim(user_agent=\"tn_explorer\")\n",
    "location = geolocator.geocode(address)\n",
    "latitude = location.latitude\n",
    "longitude = location.longitude\n",
    "print('The geograpical coordinate of Toronto are {}, {}.'.format(latitude, longitude))"
   ]
  },
  {
   "cell_type": "code",
   "execution_count": null,
   "metadata": {},
   "outputs": [],
   "source": [
    "# create map of Toronto using latitude and longitude values\n",
    "map_toronto = folium.Map(location=[latitude, longitude], zoom_start=10)\n",
    "\n",
    "# add markers to map\n",
    "for lat, lng, borough, neighborhood in zip(df_merged['Latitude'], df_merged['Longitude'], df_merged['Borough'], df_merged['Neighborhood']):\n",
    "    label = '{}, {}'.format(neighborhood, borough)\n",
    "    label = folium.Popup(label, parse_html=True)\n",
    "    folium.CircleMarker(\n",
    "        [lat, lng],\n",
    "        radius=5,\n",
    "        popup=label,\n",
    "        color='blue',\n",
    "        fill=True,\n",
    "        fill_color='#3186cc',\n",
    "        fill_opacity=0.7).add_to(map_toronto)  \n",
    "    \n",
    "map_toronto"
   ]
  },
  {
   "cell_type": "markdown",
   "metadata": {},
   "source": [
    "To make our analysis simplified we will just work on those borough that have toronto name in it!"
   ]
  },
  {
   "cell_type": "code",
   "execution_count": null,
   "metadata": {
    "scrolled": false
   },
   "outputs": [],
   "source": [
    "toronto_data = df_merged[df_merged['Borough'].str.contains('Toronto', regex=False)].reset_index(drop=True)\n",
    "toronto_data.head()"
   ]
  },
  {
   "cell_type": "code",
   "execution_count": null,
   "metadata": {},
   "outputs": [],
   "source": [
    "toronto_data[\"Borough\"].unique()"
   ]
  },
  {
   "cell_type": "markdown",
   "metadata": {},
   "source": [
    "Since our data is just focused around Central Toronto getting coordinates using Foursquare api for this location"
   ]
  },
  {
   "cell_type": "code",
   "execution_count": null,
   "metadata": {},
   "outputs": [],
   "source": [
    "address = 'Central Toronto,Toronto'\n",
    "\n",
    "geolocator = Nominatim(user_agent=\"tn_explorer\")\n",
    "location = geolocator.geocode(address)\n",
    "latitude = location.latitude\n",
    "longitude = location.longitude\n",
    "print('The geograpical coordinate of Toronto are {}, {}.'.format(latitude, longitude))"
   ]
  },
  {
   "cell_type": "code",
   "execution_count": null,
   "metadata": {},
   "outputs": [],
   "source": [
    "# create map of Toronto using latitude and longitude values\n",
    "map_toronto = folium.Map(location=[latitude, longitude], zoom_start=11)\n",
    "\n",
    "# add markers to map\n",
    "for lat, lng, borough, neighborhood in zip(toronto_data['Latitude'], toronto_data['Longitude'], toronto_data['Borough'], toronto_data['Neighborhood']):\n",
    "    label = '{}, {}'.format(neighborhood, borough)\n",
    "    label = folium.Popup(label, parse_html=True)\n",
    "    folium.CircleMarker(\n",
    "        [lat, lng],\n",
    "        radius=5,\n",
    "        popup=label,\n",
    "        color='blue',\n",
    "        fill=True,\n",
    "        fill_color='#3186cc',\n",
    "        fill_opacity=0.7).add_to(map_toronto)  \n",
    "    \n",
    "map_toronto"
   ]
  },
  {
   "cell_type": "markdown",
   "metadata": {},
   "source": [
    "#### Define Foursquare Credentials and Version"
   ]
  },
  {
   "cell_type": "code",
   "execution_count": null,
   "metadata": {},
   "outputs": [],
   "source": [
    "CLIENT_ID = '2F0YVH52B53OB0MCMNR3SXCQBRKYNOC3YDJ23NJQXKXY5EFR' # your Foursquare ID\n",
    "CLIENT_SECRET = 'QLYK2YW4BTWD1PBCWTOIMHNIGL0JC5X14G0APKAR1FR5T4AG' # your Foursquare Secret\n",
    "VERSION = '20191031' # Foursquare API version taking last month api for analysis\n",
    "\n",
    "print('Your credentails:')\n",
    "print('CLIENT_ID: ' + CLIENT_ID)\n",
    "print('CLIENT_SECRET:' + CLIENT_SECRET)"
   ]
  },
  {
   "cell_type": "markdown",
   "metadata": {},
   "source": [
    "## 2. Explore Neighborhoods in Toronto\n"
   ]
  },
  {
   "cell_type": "markdown",
   "metadata": {},
   "source": [
    "Lets get the top 100 venues in this area with their categories within 500m radius"
   ]
  },
  {
   "cell_type": "code",
   "execution_count": null,
   "metadata": {},
   "outputs": [],
   "source": [
    "LIMIT = 100\n",
    "def getNearbyVenues(names, latitudes, longitudes, radius=500):\n",
    "    \n",
    "    venues_list=[]\n",
    "    for name, lat, lng in zip(names, latitudes, longitudes):\n",
    "        print(name)\n",
    "            \n",
    "        # create the API request URL\n",
    "        url = 'https://api.foursquare.com/v2/venues/explore?&client_id={}&client_secret={}&v={}&ll={},{}&radius={}&limit={}'.format(\n",
    "            CLIENT_ID, \n",
    "            CLIENT_SECRET, \n",
    "            VERSION, \n",
    "            lat, \n",
    "            lng, \n",
    "            radius, \n",
    "            LIMIT)\n",
    "            \n",
    "        # make the GET request\n",
    "        results = requests.get(url).json()[\"response\"]['groups'][0]['items']\n",
    "        \n",
    "        # return only relevant information for each nearby venue\n",
    "        venues_list.append([(\n",
    "            name, \n",
    "            lat, \n",
    "            lng, \n",
    "            v['venue']['name'], \n",
    "            v['venue']['location']['lat'], \n",
    "            v['venue']['location']['lng'],  \n",
    "            v['venue']['categories'][0]['name']) for v in results])\n",
    "\n",
    "    nearby_venues = pd.DataFrame([item for venue_list in venues_list for item in venue_list])\n",
    "    nearby_venues.columns = ['Neighborhood', \n",
    "                  'Neighborhood Latitude', \n",
    "                  'Neighborhood Longitude', \n",
    "                  'Venue', \n",
    "                  'Venue Latitude', \n",
    "                  'Venue Longitude', \n",
    "                  'Venue Category']\n",
    "    \n",
    "    return(nearby_venues)"
   ]
  },
  {
   "cell_type": "code",
   "execution_count": null,
   "metadata": {},
   "outputs": [],
   "source": [
    "toronto_venues = getNearbyVenues(names=toronto_data['Neighborhood'],\n",
    "                                   latitudes=toronto_data['Latitude'],\n",
    "                                   longitudes=toronto_data['Longitude']\n",
    "                                  )\n"
   ]
  },
  {
   "cell_type": "markdown",
   "metadata": {},
   "source": [
    "#### Let's check the size of the resulting dataframe"
   ]
  },
  {
   "cell_type": "code",
   "execution_count": null,
   "metadata": {},
   "outputs": [],
   "source": [
    "print(toronto_venues.shape)\n",
    "toronto_venues.head()"
   ]
  },
  {
   "cell_type": "markdown",
   "metadata": {},
   "source": [
    "Let's check how many venues were returned for each neighborhood"
   ]
  },
  {
   "cell_type": "code",
   "execution_count": null,
   "metadata": {},
   "outputs": [],
   "source": [
    "toronto_venues.groupby('Neighborhood').count()"
   ]
  },
  {
   "cell_type": "markdown",
   "metadata": {},
   "source": [
    "#### Let's find out how many unique categories can be curated from all the returned venues\n"
   ]
  },
  {
   "cell_type": "code",
   "execution_count": null,
   "metadata": {},
   "outputs": [],
   "source": [
    "print('There are {} uniques categories.'.format(len(toronto_venues['Venue Category'].unique())))"
   ]
  },
  {
   "cell_type": "markdown",
   "metadata": {},
   "source": [
    "## 3. Analyze Each Neighborhood"
   ]
  },
  {
   "cell_type": "markdown",
   "metadata": {},
   "source": [
    "For analysis using k means clustering we have to convert these venues categories into numerical form using dummies(one hot encoding)"
   ]
  },
  {
   "cell_type": "code",
   "execution_count": null,
   "metadata": {
    "scrolled": true
   },
   "outputs": [],
   "source": [
    "# one hot encoding\n",
    "toronto_onehot = pd.get_dummies(toronto_venues[['Venue Category']], prefix=\"\", prefix_sep=\"\")\n",
    "\n",
    "# add neighborhood column back to dataframe\n",
    "toronto_onehot['Neighborhood'] = toronto_venues['Neighborhood'] \n",
    "\n",
    "toronto_onehot.head()"
   ]
  },
  {
   "cell_type": "markdown",
   "metadata": {},
   "source": [
    "Move \"Neighborhood\" column to first position."
   ]
  },
  {
   "cell_type": "code",
   "execution_count": null,
   "metadata": {},
   "outputs": [],
   "source": [
    "# re ordering the columns\n",
    "cols = ['Neighborhood' , \n",
    "             'Yoga Studio',\n",
    " 'Afghan Restaurant',\n",
    " 'Airport',\n",
    " 'Airport Food Court',\n",
    " 'Airport Gate',\n",
    " 'Airport Lounge',\n",
    " 'Airport Service',\n",
    " 'Airport Terminal',\n",
    " 'American Restaurant',\n",
    " 'Antique Shop',\n",
    " 'Aquarium',\n",
    " 'Argentinian Restaurant',\n",
    " 'Art Gallery',\n",
    " 'Arts & Crafts Store',\n",
    " 'Asian Restaurant',\n",
    " 'Auto Workshop',\n",
    " 'BBQ Joint',\n",
    " 'Baby Store',\n",
    " 'Bagel Shop',\n",
    " 'Bakery',\n",
    " 'Bank',\n",
    " 'Bar',\n",
    " 'Baseball Stadium',\n",
    " 'Basketball Stadium',\n",
    " 'Beach',\n",
    " 'Bed & Breakfast',\n",
    " 'Beer Bar',\n",
    " 'Beer Store',\n",
    " 'Belgian Restaurant',\n",
    " 'Bistro',\n",
    " 'Boat or Ferry',\n",
    " 'Bookstore',\n",
    " 'Boutique',\n",
    " 'Brazilian Restaurant',\n",
    " 'Breakfast Spot',\n",
    " 'Brewery',\n",
    " 'Bubble Tea Shop',\n",
    " 'Building',\n",
    " 'Burger Joint',\n",
    " 'Burrito Place',\n",
    " 'Bus Line',\n",
    " 'Butcher',\n",
    " 'Café',\n",
    " 'Cajun / Creole Restaurant',\n",
    " 'Candy Store',\n",
    " 'Caribbean Restaurant',\n",
    " 'Cheese Shop',\n",
    " 'Chinese Restaurant',\n",
    " 'Chocolate Shop',\n",
    " 'Church',\n",
    " 'Climbing Gym',\n",
    " 'Clothing Store',\n",
    " 'Cocktail Bar',\n",
    " 'Coffee Shop',\n",
    " 'College Arts Building',\n",
    " 'College Gym',\n",
    " 'College Rec Center',\n",
    " 'Colombian Restaurant',\n",
    " 'Comfort Food Restaurant',\n",
    " 'Comic Shop',\n",
    " 'Concert Hall',\n",
    " 'Convenience Store',\n",
    " 'Cosmetics Shop',\n",
    " 'Coworking Space',\n",
    " 'Creperie',\n",
    " 'Cuban Restaurant',\n",
    " 'Cupcake Shop',\n",
    " 'Dance Studio',\n",
    " 'Deli / Bodega',\n",
    " 'Department Store',\n",
    " 'Dessert Shop',\n",
    " 'Dim Sum Restaurant',\n",
    " 'Diner',\n",
    " 'Discount Store',\n",
    " 'Dog Run',\n",
    " 'Doner Restaurant',\n",
    " 'Donut Shop',\n",
    " 'Dumpling Restaurant',\n",
    " 'Eastern European Restaurant',\n",
    " 'Electronics Store',\n",
    " 'Ethiopian Restaurant',\n",
    " 'Event Space',\n",
    " 'Falafel Restaurant',\n",
    " 'Farmers Market',\n",
    " 'Fast Food Restaurant',\n",
    " 'Filipino Restaurant',\n",
    " 'Fish & Chips Shop',\n",
    " 'Fish Market',\n",
    " 'Flea Market',\n",
    " 'Food',\n",
    " 'Food & Drink Shop',\n",
    " 'Food Court',\n",
    " 'Food Truck',\n",
    " 'Fountain',\n",
    " 'French Restaurant',\n",
    " 'Fried Chicken Joint',\n",
    " 'Fruit & Vegetable Store',\n",
    " 'Furniture / Home Store',\n",
    " 'Gaming Cafe',\n",
    " 'Garden',\n",
    " 'Garden Center',\n",
    " 'Gastropub',\n",
    " 'Gay Bar',\n",
    " 'General Entertainment',\n",
    " 'General Travel',\n",
    " 'German Restaurant',\n",
    " 'Gift Shop',\n",
    " 'Gluten-free Restaurant',\n",
    " 'Gourmet Shop',\n",
    " 'Greek Restaurant',\n",
    " 'Grocery Store',\n",
    " 'Gym',\n",
    " 'Gym / Fitness Center',\n",
    " 'Harbor / Marina',\n",
    " 'Health & Beauty Service',\n",
    " 'Health Food Store',\n",
    " 'Historic Site',\n",
    " 'History Museum',\n",
    " 'Hobby Shop',\n",
    " 'Hospital',\n",
    " 'Hostel',\n",
    " 'Hotel',\n",
    " 'Hotel Bar',\n",
    " 'Hotpot Restaurant',\n",
    " 'Ice Cream Shop',\n",
    " 'Indian Restaurant',\n",
    " 'Indie Movie Theater',\n",
    " 'Intersection',\n",
    " 'Irish Pub',\n",
    " 'Italian Restaurant',\n",
    " 'Japanese Restaurant',\n",
    " 'Jazz Club',\n",
    " 'Jewelry Store',\n",
    " 'Juice Bar',\n",
    " 'Korean Restaurant',\n",
    " 'Lake',\n",
    " 'Latin American Restaurant',\n",
    " 'Light Rail Station',\n",
    " 'Lingerie Store',\n",
    " 'Liquor Store',\n",
    " 'Lounge',\n",
    " 'Mac & Cheese Joint',\n",
    " 'Malay Restaurant',\n",
    " 'Market',\n",
    " 'Massage Studio',\n",
    " 'Mediterranean Restaurant',\n",
    " \"Men's Store\",\n",
    " 'Mexican Restaurant',\n",
    " 'Middle Eastern Restaurant',\n",
    " 'Miscellaneous Shop',\n",
    " 'Modern European Restaurant',\n",
    " 'Molecular Gastronomy Restaurant',\n",
    " 'Monument / Landmark',\n",
    " 'Movie Theater',\n",
    " 'Museum',\n",
    " 'Music Venue',\n",
    " 'New American Restaurant',\n",
    " 'Nightclub',\n",
    " 'Noodle House',\n",
    " 'Office',\n",
    " 'Opera House',\n",
    " 'Optical Shop',\n",
    " 'Organic Grocery',\n",
    " 'Other Great Outdoors',\n",
    " 'Park',\n",
    " 'Performing Arts Venue',\n",
    " 'Persian Restaurant',\n",
    " 'Pet Store',\n",
    " 'Pharmacy',\n",
    " 'Pizza Place',\n",
    " 'Playground',\n",
    " 'Plaza',\n",
    " 'Poke Place',\n",
    " 'Portuguese Restaurant',\n",
    " 'Poutine Place',\n",
    " 'Pub',\n",
    " 'Ramen Restaurant',\n",
    " 'Record Shop',\n",
    " 'Rental Car Location',\n",
    " 'Restaurant',\n",
    " 'Roof Deck',\n",
    " 'Sake Bar',\n",
    " 'Salad Place',\n",
    " 'Salon / Barbershop',\n",
    " 'Sandwich Place',\n",
    " 'Scenic Lookout',\n",
    " 'Sculpture Garden',\n",
    " 'Seafood Restaurant',\n",
    " 'Shoe Store',\n",
    " 'Shopping Mall',\n",
    " 'Skate Park',\n",
    " 'Skating Rink',\n",
    " 'Smoke Shop',\n",
    " 'Smoothie Shop',\n",
    " 'Snack Place',\n",
    " 'Soup Place',\n",
    " 'Southern / Soul Food Restaurant',\n",
    " 'Spa',\n",
    " 'Speakeasy',\n",
    " 'Sporting Goods Shop',\n",
    " 'Sports Bar',\n",
    " 'Stadium',\n",
    " 'Stationery Store',\n",
    " 'Steakhouse',\n",
    " 'Strip Club',\n",
    " 'Supermarket',\n",
    " 'Sushi Restaurant',\n",
    " 'Swim School',\n",
    " 'Taco Place',\n",
    " 'Tailor Shop',\n",
    " 'Taiwanese Restaurant',\n",
    " 'Tanning Salon',\n",
    " 'Tea Room',\n",
    " 'Tennis Court',\n",
    " 'Thai Restaurant',\n",
    " 'Theater',\n",
    " 'Theme Restaurant',\n",
    " 'Thrift / Vintage Store',\n",
    " 'Toy / Game Store',\n",
    " 'Trail',\n",
    " 'Train Station',\n",
    " 'Vegetarian / Vegan Restaurant',\n",
    " 'Video Game Store',\n",
    " 'Vietnamese Restaurant',\n",
    " 'Wine Bar',\n",
    " 'Wine Shop',\n",
    " 'Wings Joint']"
   ]
  },
  {
   "cell_type": "code",
   "execution_count": null,
   "metadata": {
    "scrolled": true
   },
   "outputs": [],
   "source": [
    "toronto_onehot = toronto_onehot[cols]\n",
    "toronto_onehot.head()"
   ]
  },
  {
   "cell_type": "markdown",
   "metadata": {},
   "source": [
    "And let's examine the new dataframe size."
   ]
  },
  {
   "cell_type": "code",
   "execution_count": null,
   "metadata": {},
   "outputs": [],
   "source": [
    "toronto_onehot.shape"
   ]
  },
  {
   "cell_type": "markdown",
   "metadata": {},
   "source": [
    "#### Next, let's group rows by neighborhood and by taking the mean of the frequency of occurrence of each category"
   ]
  },
  {
   "cell_type": "code",
   "execution_count": null,
   "metadata": {},
   "outputs": [],
   "source": [
    "toronto_grouped = toronto_onehot.groupby('Neighborhood').mean().reset_index()\n",
    "toronto_grouped"
   ]
  },
  {
   "cell_type": "markdown",
   "metadata": {},
   "source": [
    "#### Let's confirm the new size"
   ]
  },
  {
   "cell_type": "code",
   "execution_count": null,
   "metadata": {},
   "outputs": [],
   "source": [
    "toronto_grouped.shape"
   ]
  },
  {
   "cell_type": "markdown",
   "metadata": {},
   "source": [
    "#### Let's print each neighborhood along with the top 5 most common venues"
   ]
  },
  {
   "cell_type": "code",
   "execution_count": null,
   "metadata": {},
   "outputs": [],
   "source": [
    "num_top_venues = 5\n",
    "\n",
    "for hood in toronto_grouped['Neighborhood']:\n",
    "    print(\"----\"+hood+\"----\")\n",
    "    temp = toronto_grouped[toronto_grouped['Neighborhood'] == hood].T.reset_index()\n",
    "    temp.columns = ['venue','freq']\n",
    "    temp = temp.iloc[1:]\n",
    "    temp['freq'] = temp['freq'].astype(float)\n",
    "    temp = temp.round({'freq': 2})\n",
    "    print(temp.sort_values('freq', ascending=False).reset_index(drop=True).head(num_top_venues))\n",
    "    print('\\n')"
   ]
  },
  {
   "cell_type": "markdown",
   "metadata": {},
   "source": [
    "#### Let's put that into a *pandas* dataframe"
   ]
  },
  {
   "cell_type": "markdown",
   "metadata": {},
   "source": [
    "First, let's write a function to sort the venues in descending order."
   ]
  },
  {
   "cell_type": "code",
   "execution_count": null,
   "metadata": {},
   "outputs": [],
   "source": [
    "def return_most_common_venues(row, num_top_venues):\n",
    "    row_categories = row.iloc[1:]\n",
    "    row_categories_sorted = row_categories.sort_values(ascending=False)\n",
    "    \n",
    "    return row_categories_sorted.index.values[0:num_top_venues]"
   ]
  },
  {
   "cell_type": "markdown",
   "metadata": {},
   "source": [
    "Now let's create the new dataframe and display the top 10 venues for each neighborhood."
   ]
  },
  {
   "cell_type": "code",
   "execution_count": null,
   "metadata": {},
   "outputs": [],
   "source": [
    "num_top_venues = 10\n",
    "\n",
    "indicators = ['st', 'nd', 'rd']\n",
    "\n",
    "# create columns according to number of top venues\n",
    "columns = ['Neighborhood']\n",
    "for ind in np.arange(num_top_venues):\n",
    "    try:\n",
    "        columns.append('{}{} Most Common Venue'.format(ind+1, indicators[ind]))\n",
    "    except:\n",
    "        columns.append('{}th Most Common Venue'.format(ind+1))\n",
    "\n",
    "# create a new dataframe\n",
    "neighborhoods_venues_sorted = pd.DataFrame(columns=columns)\n",
    "neighborhoods_venues_sorted['Neighborhood'] = toronto_grouped['Neighborhood']\n",
    "\n",
    "for ind in np.arange(toronto_grouped.shape[0]):\n",
    "    neighborhoods_venues_sorted.iloc[ind, 1:] = return_most_common_venues(toronto_grouped.iloc[ind, :], num_top_venues)\n",
    "\n",
    "neighborhoods_venues_sorted.head()"
   ]
  },
  {
   "cell_type": "markdown",
   "metadata": {},
   "source": [
    "## 4. Cluster Neighborhoods\n"
   ]
  },
  {
   "cell_type": "markdown",
   "metadata": {},
   "source": [
    "Run *k*-means to cluster the neighborhood into 5 clusters."
   ]
  },
  {
   "cell_type": "code",
   "execution_count": null,
   "metadata": {},
   "outputs": [],
   "source": [
    "# set number of clusters\n",
    "kclusters = 5\n",
    "\n",
    "toronto_grouped_clustering = toronto_grouped.drop('Neighborhood', 1)\n",
    "\n",
    "# run k-means clustering\n",
    "kmeans = KMeans(n_clusters=kclusters, random_state=0).fit(toronto_grouped_clustering)\n",
    "\n",
    "# check cluster labels generated for each row in the dataframe\n",
    "kmeans.labels_[0:10] "
   ]
  },
  {
   "cell_type": "code",
   "execution_count": null,
   "metadata": {},
   "outputs": [],
   "source": [
    "toronto_data.shape"
   ]
  },
  {
   "cell_type": "markdown",
   "metadata": {},
   "source": [
    "Let's create a new dataframe that includes the cluster as well as the top 10 venues for each neighborhood."
   ]
  },
  {
   "cell_type": "code",
   "execution_count": null,
   "metadata": {},
   "outputs": [],
   "source": [
    "# add clustering labels\n",
    "neighborhoods_venues_sorted.insert(0, 'Cluster Labels', kmeans.labels_)\n",
    "\n",
    "toronto_merged = toronto_data\n",
    "\n",
    "# merge toronto_grouped with toronto_data to add latitude/longitude for each neighborhood\n",
    "toronto_merged = toronto_merged.join(neighborhoods_venues_sorted.set_index('Neighborhood'), on='Neighborhood')\n",
    "\n",
    "toronto_merged.head() # check the last columns!"
   ]
  },
  {
   "cell_type": "code",
   "execution_count": null,
   "metadata": {},
   "outputs": [],
   "source": [
    "toronto_merged.to_csv(r\"C:/Users/akhil/eclipse-workspace/New folder/Coursera_Capstone/toronto_merged.csv\",index=False)"
   ]
  },
  {
   "cell_type": "code",
   "execution_count": null,
   "metadata": {},
   "outputs": [],
   "source": [
    "# create map\n",
    "map_clusters = folium.Map(location=[latitude, longitude], zoom_start=11.2)\n",
    "\n",
    "# set color scheme for the clusters\n",
    "x = np.arange(kclusters)\n",
    "ys = [i + x + (i*x)**2 for i in range(kclusters)]\n",
    "colors_array = cm.rainbow(np.linspace(0, 1, len(ys)))\n",
    "rainbow = [colors.rgb2hex(i) for i in colors_array]\n",
    "\n",
    "\n",
    "# add markers to the map\n",
    "markers_colors = []\n",
    "for lat, lon, poi, cluster in zip(toronto_merged['Latitude'], toronto_merged['Longitude'], toronto_merged['Neighborhood'], toronto_merged['Cluster Labels']):\n",
    "    label = folium.Popup(' Cluster ' + str(cluster + 1) + str(poi), parse_html=True)\n",
    "    folium.CircleMarker(\n",
    "        [lat, lon],\n",
    "        radius=5,\n",
    "        popup=label,\n",
    "        color=rainbow[cluster-1],\n",
    "        fill=True,\n",
    "        fill_color=rainbow[cluster-1],\n",
    "        fill_opacity=0.7).add_to(map_clusters)\n",
    "       \n",
    "map_clusters"
   ]
  },
  {
   "cell_type": "markdown",
   "metadata": {},
   "source": [
    "## 5. Examine Clusters\n"
   ]
  },
  {
   "cell_type": "markdown",
   "metadata": {},
   "source": [
    "#### Cluster 1"
   ]
  },
  {
   "cell_type": "markdown",
   "metadata": {},
   "source": [
    "just making a seprate data frames for each cluster which will help us in further analysis"
   ]
  },
  {
   "cell_type": "code",
   "execution_count": null,
   "metadata": {
    "scrolled": true
   },
   "outputs": [],
   "source": [
    "clus1 = toronto_merged.loc[toronto_merged['Cluster Labels'] == 0, toronto_merged.columns[[1] + list(range(5, toronto_merged.shape[1]))]]\n",
    "clus1.head()"
   ]
  },
  {
   "cell_type": "code",
   "execution_count": null,
   "metadata": {},
   "outputs": [],
   "source": [
    "clus1.groupby(\"Borough\")[\"1st Most Common Venue\"].value_counts()"
   ]
  },
  {
   "cell_type": "code",
   "execution_count": null,
   "metadata": {},
   "outputs": [],
   "source": [
    "clus1.groupby(\"Borough\")[\"1st Most Common Venue\"].apply(lambda x: ','.join(x.unique()))"
   ]
  },
  {
   "cell_type": "code",
   "execution_count": null,
   "metadata": {},
   "outputs": [],
   "source": [
    "df_tmp_clus1 = pd.DataFrame(clus1.groupby(\"Borough\")[\"1st Most Common Venue\"].apply(lambda x: ','.join(x.unique())).reset_index())\n",
    "df_tmp_clus1.rename(columns={'Borough':'boroughs', '1st Most Common Venue': 'top_venues'},inplace=True)\n",
    "df_tmp_clus1.loc[df_tmp_clus1.boroughs == \"Central Toronto\",\"top_venues\"].values"
   ]
  },
  {
   "cell_type": "markdown",
   "metadata": {},
   "source": [
    "From above groupby we can see that cluster 1 has many coffeshops and is the busiest as it is downtown of toronto."
   ]
  },
  {
   "cell_type": "markdown",
   "metadata": {},
   "source": [
    "#### Cluster 2"
   ]
  },
  {
   "cell_type": "code",
   "execution_count": null,
   "metadata": {
    "scrolled": false
   },
   "outputs": [],
   "source": [
    "clus2 = toronto_merged.loc[toronto_merged['Cluster Labels'] == 1, toronto_merged.columns[[1] + list(range(5, toronto_merged.shape[1]))]]\n",
    "clus2.head()"
   ]
  },
  {
   "cell_type": "code",
   "execution_count": null,
   "metadata": {},
   "outputs": [],
   "source": [
    "df_tmp_clus2 = pd.DataFrame(clus2.groupby(\"Borough\")[\"1st Most Common Venue\"].apply(lambda x: ','.join(x.unique())).reset_index())\n",
    "df_tmp_clus2.rename(columns={'Borough':'boroughs', '1st Most Common Venue': 'top_venues'},inplace=True)\n",
    "df_tmp_clus2.loc[df_tmp_clus2.boroughs == \"Central Toronto\",\"top_venues\"].values"
   ]
  },
  {
   "cell_type": "markdown",
   "metadata": {},
   "source": [
    "we can observe that cluster2 has just 2 points one from central and one from downtown toronto and is more focused on parks and play grounds. "
   ]
  },
  {
   "cell_type": "markdown",
   "metadata": {},
   "source": [
    "#### Cluster 3"
   ]
  },
  {
   "cell_type": "code",
   "execution_count": null,
   "metadata": {
    "scrolled": true
   },
   "outputs": [],
   "source": [
    "clus3 = toronto_merged.loc[toronto_merged['Cluster Labels'] == 2, toronto_merged.columns[[1] + list(range(5, toronto_merged.shape[1]))]]\n",
    "clus3.head()"
   ]
  },
  {
   "cell_type": "code",
   "execution_count": null,
   "metadata": {},
   "outputs": [],
   "source": [
    "df_tmp_clus3 = pd.DataFrame(clus3.groupby(\"Borough\")[\"1st Most Common Venue\"].apply(lambda x: ','.join(x.unique())).reset_index())\n",
    "df_tmp_clus3.rename(columns={'Borough':'boroughs', '1st Most Common Venue': 'top_venues'},inplace=True)\n",
    "df_tmp_clus3.loc[df_tmp_clus3.boroughs == \"Central Toronto\",\"top_venues\"].values"
   ]
  },
  {
   "cell_type": "markdown",
   "metadata": {},
   "source": [
    "Cluster 3 has gardens and seems great chillout neighbourhood."
   ]
  },
  {
   "cell_type": "markdown",
   "metadata": {},
   "source": [
    "#### Cluster 4"
   ]
  },
  {
   "cell_type": "code",
   "execution_count": null,
   "metadata": {},
   "outputs": [],
   "source": [
    "clus4 = toronto_merged.loc[toronto_merged['Cluster Labels'] == 3, toronto_merged.columns[[1] + list(range(5, toronto_merged.shape[1]))]]\n",
    "clus4.head()"
   ]
  },
  {
   "cell_type": "code",
   "execution_count": null,
   "metadata": {},
   "outputs": [],
   "source": [
    "df_tmp_clus4 = pd.DataFrame(clus4.groupby(\"Borough\")[\"1st Most Common Venue\"].apply(lambda x: ','.join(x.unique())).reset_index())\n",
    "df_tmp_clus4.rename(columns={'Borough':'boroughs', '1st Most Common Venue': 'top_venues'},inplace=True)\n",
    "df_tmp_clus4.loc[df_tmp_clus4.boroughs == \"Central Toronto\",\"top_venues\"].values"
   ]
  },
  {
   "cell_type": "markdown",
   "metadata": {},
   "source": [
    "Cluster 4 is all about shopping and public transport relatable right?"
   ]
  },
  {
   "cell_type": "markdown",
   "metadata": {},
   "source": [
    "#### Cluster 5"
   ]
  },
  {
   "cell_type": "code",
   "execution_count": null,
   "metadata": {
    "scrolled": false
   },
   "outputs": [],
   "source": [
    "clus5 = toronto_merged.loc[toronto_merged['Cluster Labels'] == 4, toronto_merged.columns[[1] + list(range(5, toronto_merged.shape[1]))]]\n",
    "clus5.head()"
   ]
  },
  {
   "cell_type": "code",
   "execution_count": null,
   "metadata": {},
   "outputs": [],
   "source": [
    "df_tmp_clus5 = pd.DataFrame(clus5.groupby(\"Borough\")[\"1st Most Common Venue\"].apply(lambda x: ','.join(x.unique())).reset_index())\n",
    "df_tmp_clus5.rename(columns={'Borough':'boroughs', '1st Most Common Venue': 'top_venues'},inplace=True)\n",
    "df_tmp_clus5.loc[df_tmp_clus5.boroughs == \"Central Toronto\",\"top_venues\"].values"
   ]
  },
  {
   "cell_type": "markdown",
   "metadata": {},
   "source": [
    "Cluster 5 is mix restaurants and stores also, we have public transit more focused here."
   ]
  },
  {
   "cell_type": "code",
   "execution_count": null,
   "metadata": {
    "scrolled": false
   },
   "outputs": [],
   "source": [
    "# create map\n",
    "map_clusters = folium.Map(location=[latitude, longitude], zoom_start=11.2)\n",
    "\n",
    "# set color scheme for the clusters\n",
    "x = np.arange(kclusters)\n",
    "ys = [i + x + (i*x)**2 for i in range(kclusters)]\n",
    "colors_array = cm.rainbow(np.linspace(0, 1, len(ys)))\n",
    "rainbow = [colors.rgb2hex(i) for i in colors_array]\n",
    "\n",
    "\n",
    "# add markers to the map\n",
    "markers_colors = []\n",
    "for lat, lon, poi, cluster, top_spot, borough  in zip(toronto_merged['Latitude'], toronto_merged['Longitude'], toronto_merged['Neighborhood'], toronto_merged['Cluster Labels'],\n",
    "                                 toronto_merged['1st Most Common Venue'], toronto_merged['Borough']):\n",
    "    # putting the extra options to explore in each cluster on the popups \n",
    "    if cluster == 0: \n",
    "        label = folium.Popup(\"<h6> <center>Coffee House </center></h6> \\\n",
    "                             <h6><b> {}</b> : {}</h6> \\\n",
    "                          <h6> <b> {} </b> : {} </h6> \".format(str(poi),str(top_spot),str(borough),str(df_tmp_clus1.loc[df_tmp_clus1.boroughs == borough,\"top_venues\"].values)),parse_html=False)\n",
    "    elif cluster == 1:\n",
    "        label = folium.Popup(\"<center>Parks and Playgrounds </center>\\\n",
    "                             <h6><b> {}</b> : {}</h6> \\\n",
    "                          <h6> <b> {} </b> : {} </h6> \".format(str(poi),str(top_spot),str(borough),str(df_tmp_clus2.loc[df_tmp_clus2.boroughs == borough,\"top_venues\"].values)),parse_html=False)\n",
    "    \n",
    "        \n",
    "    elif cluster == 2:\n",
    "        label = folium.Popup(\"<h6> <center>Gardens </center> </h6> \\\n",
    "                             <h6><b> {}</b> : {}</h6> \\\n",
    "                          <h6> <b> {} </b> : {} </h6> \".format(str(poi),str(top_spot),str(borough),str(df_tmp_clus3.loc[df_tmp_clus3.boroughs == borough,\"top_venues\"].values)),parse_html=False)\n",
    "        \n",
    "    elif cluster == 3:\n",
    "        label = folium.Popup(\"<h6> <center> Shoping and Restaurants </center> </h6> \\\n",
    "                             <h6><b> {}</b> : {}</h6> \\\n",
    "                          <h6> <b> {} </b> : {} </h6> \".format(str(poi),str(top_spot),str(borough),str(df_tmp_clus4.loc[df_tmp_clus4.boroughs == borough,\"top_venues\"].values)),parse_html=False)\n",
    "    \n",
    "    elif cluster == 4:\n",
    "        label = folium.Popup(\"<h6> <center>Stores and transport</center> </h6> \\\n",
    "                             <h6><b> {}</b> : {}</h6> \\\n",
    "                          <h6> <b> {} </b> : {} </h6> \".format(str(poi),str(top_spot),str(borough),str(df_tmp_clus5.loc[df_tmp_clus5.boroughs == borough,\"top_venues\"].values)),parse_html=False)\n",
    "        \n",
    "    folium.CircleMarker(\n",
    "        [lat, lon],\n",
    "        radius=5,\n",
    "        popup=label,\n",
    "        color=rainbow[cluster-1],\n",
    "        fill=True,\n",
    "        fill_color=rainbow[cluster-1],\n",
    "        fill_opacity=0.7).add_to(map_clusters)\n",
    "       \n",
    "map_clusters"
   ]
  },
  {
   "cell_type": "markdown",
   "metadata": {},
   "source": [
    "#### from above map we can see that our neighborhoods analysis shows the results in popup with trending venues from foursquare api. which lets us know which is first and foremost place to go will be the one whcich is famous in neighborhood and other things trending in that Borough are mentioned below the line. \n",
    "#### we have sucesfully analysed neighborhoods in toronto which let us know which are the places to go for coffe in downtwon or where to go for some relaxation( like cluster 3 having parks and playgrounds ).\n",
    "if some one is looking to buy a house on toronto then we can se we have 5 options \n",
    "1. if he wants all the resources and office near home he can buy house in cluser 1.\n",
    "2. if he wants rexalxed non busy envoirnment then he should go for 2nd cluster area.\n",
    "3. if he wants gardens nearby go for cluster 3.\n",
    "4. if he wants more of public transport as well as shopping and stores nearby home he should go for 4th or 5th cluster aera.\n",
    "\n",
    "These sugessions can be further broken down as per boroughs."
   ]
  },
  {
   "cell_type": "markdown",
   "metadata": {},
   "source": [
    "#### Additional screenshots of Map outputs are attached in the repository"
   ]
  }
 ],
 "metadata": {
  "kernelspec": {
   "display_name": "Python 3",
   "language": "python",
   "name": "python3"
  },
  "language_info": {
   "codemirror_mode": {
    "name": "ipython",
    "version": 3
   },
   "file_extension": ".py",
   "mimetype": "text/x-python",
   "name": "python",
   "nbconvert_exporter": "python",
   "pygments_lexer": "ipython3",
   "version": "3.7.0"
  },
  "toc": {
   "base_numbering": 1,
   "nav_menu": {},
   "number_sections": true,
   "sideBar": true,
   "skip_h1_title": false,
   "title_cell": "Table of Contents",
   "title_sidebar": "Contents",
   "toc_cell": true,
   "toc_position": {},
   "toc_section_display": true,
   "toc_window_display": true
  }
 },
 "nbformat": 4,
 "nbformat_minor": 2
}
